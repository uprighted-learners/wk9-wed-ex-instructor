{
 "cells": [
  {
   "cell_type": "code",
   "execution_count": 5,
   "id": "da474169-6acd-4e0b-a3c7-b68568c70463",
   "metadata": {},
   "outputs": [],
   "source": [
    "# Import necessary libraries\n",
    "import pandas as pd\n",
    "import numpy as np\n",
    "import seaborn as sns\n",
    "import matplotlib.pyplot as plt\n",
    "\n",
    "# Set a random seed for reproducibility\n",
    "np.random.seed(42)\n",
    "\n",
    "# Create a sample DataFrame with 20 people\n",
    "n = 20\n",
    "\n",
    "# Generate realistic data with some built-in correlations\n",
    "# Heights in centimeters (normally distributed around 170cm with 10cm std)\n",
    "heights = np.random.normal(170, 10, n)\n",
    "\n",
    "# Weights in kg (correlated with height but with some randomness)\n",
    "# Formula creates correlation between height and weight\n",
    "weights = (heights - 170) * 0.7 + 70 + np.random.normal(0, 5, n)\n",
    "\n",
    "# Ages in years (18-65, not strongly correlated with height or weight)\n",
    "ages = np.random.randint(18, 65, n)\n",
    "\n",
    "# Create the DataFrame\n",
    "df = pd.DataFrame({\n",
    "    'height': heights,\n",
    "    'weight': weights,\n",
    "    'age': ages\n",
    "})"
   ]
  },
  {
   "cell_type": "code",
   "execution_count": 6,
   "id": "e1a786a5-eea1-46d1-9ca3-c413a5366060",
   "metadata": {},
   "outputs": [
    {
     "name": "stdout",
     "output_type": "stream",
     "text": [
      "Sample DataFrame:\n",
      "       height     weight  age\n",
      "0  174.967142  80.805243   35\n",
      "1  168.617357  67.903268   43\n",
      "2  176.476885  74.871461   61\n",
      "3  185.230299  73.537468   51\n",
      "4  167.658466  65.639013   27\n"
     ]
    }
   ],
   "source": [
    "# Display the first 5 rows of the DataFrame\n",
    "print(\"Sample DataFrame:\")\n",
    "print(df.head())"
   ]
  },
  {
   "cell_type": "code",
   "execution_count": 7,
   "id": "110ca323-8726-4c3a-81d3-610840e114cb",
   "metadata": {},
   "outputs": [
    {
     "name": "stdout",
     "output_type": "stream",
     "text": [
      "\n",
      "Basic Statistics:\n",
      "           height     weight      age\n",
      "count   20.000000  20.000000  20.0000\n",
      "mean   168.287014  67.471034  42.5000\n",
      "std      9.600284   7.639105  12.0547\n",
      "min    150.867198  51.318484  25.0000\n",
      "25%    163.512783  62.310610  32.7500\n",
      "50%    167.658548  66.771141  40.5000\n",
      "75%    175.081756  73.870966  51.5000\n",
      "max    185.792128  80.805243  64.0000\n"
     ]
    }
   ],
   "source": [
    "# Basic statistics of the DataFrame\n",
    "print(\"\\nBasic Statistics:\")\n",
    "print(df.describe())"
   ]
  },
  {
   "cell_type": "code",
   "execution_count": 8,
   "id": "a6f0b245-4dc5-4e84-a636-e14c2f25835d",
   "metadata": {},
   "outputs": [
    {
     "name": "stdout",
     "output_type": "stream",
     "text": [
      "\n",
      "Correlation Matrix (Pearson):\n",
      "          height    weight       age\n",
      "height  1.000000  0.780048  0.194836\n",
      "weight  0.780048  1.000000  0.022725\n",
      "age     0.194836  0.022725  1.000000\n"
     ]
    }
   ],
   "source": [
    "corr_matrix = df.corr()\n",
    "print(\"\\nCorrelation Matrix (Pearson):\")\n",
    "print(corr_matrix)\n"
   ]
  },
  {
   "cell_type": "code",
   "execution_count": 9,
   "id": "30779bb9-0eaf-4312-b406-66ab161edf72",
   "metadata": {},
   "outputs": [
    {
     "name": "stdout",
     "output_type": "stream",
     "text": [
      "\n",
      "Spearman Correlation:\n",
      "          height    weight       age\n",
      "height  1.000000  0.792481  0.131728\n",
      "weight  0.792481  1.000000 -0.050433\n",
      "age     0.131728 -0.050433  1.000000\n"
     ]
    }
   ],
   "source": [
    "spearman_corr = df.corr(method='spearman')\n",
    "print(\"\\nSpearman Correlation:\")\n",
    "print(spearman_corr)"
   ]
  },
  {
   "cell_type": "code",
   "execution_count": 10,
   "id": "8718aa25-1f83-4acf-b593-4cafd637d3ab",
   "metadata": {},
   "outputs": [
    {
     "name": "stdout",
     "output_type": "stream",
     "text": [
      "\n",
      "Kendall Tau Correlation:\n",
      "          height    weight       age\n",
      "height  1.000000  0.631579  0.079578\n",
      "weight  0.631579  1.000000 -0.037136\n",
      "age     0.079578 -0.037136  1.000000\n"
     ]
    }
   ],
   "source": [
    "# Calculate Kendall Tau correlation\n",
    "kendall_corr = df.corr(method='kendall')\n",
    "print(\"\\nKendall Tau Correlation:\")\n",
    "print(kendall_corr)\n"
   ]
  },
  {
   "cell_type": "code",
   "execution_count": 11,
   "id": "3f510fca-d54b-4b64-a3bd-031dc8dd98e2",
   "metadata": {},
   "outputs": [
    {
     "name": "stdout",
     "output_type": "stream",
     "text": [
      "\n",
      "Correlation between height and weight: 0.7800\n"
     ]
    }
   ],
   "source": [
    "# Calculate correlation between specific columns\n",
    "height_weight_corr = df['height'].corr(df['weight'])\n",
    "print(f\"\\nCorrelation between height and weight: {height_weight_corr:.4f}\")\n"
   ]
  },
  {
   "cell_type": "code",
   "execution_count": null,
   "id": "18c2ab84-d471-4de0-b43a-58d0083fc9d4",
   "metadata": {},
   "outputs": [],
   "source": []
  }
 ],
 "metadata": {
  "kernelspec": {
   "display_name": "Python [conda env:base] *",
   "language": "python",
   "name": "conda-base-py"
  },
  "language_info": {
   "codemirror_mode": {
    "name": "ipython",
    "version": 3
   },
   "file_extension": ".py",
   "mimetype": "text/x-python",
   "name": "python",
   "nbconvert_exporter": "python",
   "pygments_lexer": "ipython3",
   "version": "3.12.7"
  }
 },
 "nbformat": 4,
 "nbformat_minor": 5
}
