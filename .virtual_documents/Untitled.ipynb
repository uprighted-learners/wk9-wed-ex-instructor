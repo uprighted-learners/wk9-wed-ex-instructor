# Import necessary libraries
import pandas as pd
import numpy as np
import seaborn as sns
import matplotlib.pyplot as plt

# Set a random seed for reproducibility
np.random.seed(42)

# Create a sample DataFrame with 20 people
n = 20

# Generate realistic data with some built-in correlations
# Heights in centimeters (normally distributed around 170cm with 10cm std)
heights = np.random.normal(170, 10, n)

# Weights in kg (correlated with height but with some randomness)
# Formula creates correlation between height and weight
weights = (heights - 170) * 0.7 + 70 + np.random.normal(0, 5, n)

# Ages in years (18-65, not strongly correlated with height or weight)
ages = np.random.randint(18, 65, n)

# Create the DataFrame
df = pd.DataFrame({
    'height': heights,
    'weight': weights,
    'age': ages
})


# Display the first 5 rows of the DataFrame
print("Sample DataFrame:")
print(df.head())


# Basic statistics of the DataFrame
print("\nBasic Statistics:")
print(df.describe())


corr_matrix = df.corr()
print("\nCorrelation Matrix (Pearson):")
print(corr_matrix)



spearman_corr = df.corr(method='spearman')
print("\nSpearman Correlation:")
print(spearman_corr)


# Calculate Kendall Tau correlation
kendall_corr = df.corr(method='kendall')
print("\nKendall Tau Correlation:")
print(kendall_corr)



# Calculate correlation between specific columns
height_weight_corr = df['height'].corr(df['weight'])
print(f"\nCorrelation between height and weight: {height_weight_corr:.4f}")



# Create a correlation heatmap
plt.figure(figsize=(8, 6))
sns.heatmap(corr_matrix, annot=True, cmap='coolwarm', vmin=-1, vmax=1, fmt='.2f')
plt.title('Correlation Matrix Heatmap')
plt.tight_layout()
plt.savefig('correlation_heatmap.png')


# Create scatter plots to visualize relationships
plt.figure(figsize=(12, 4))

plt.subplot(1, 3, 1)
plt.scatter(df['height'], df['weight'])
plt.xlabel('Height (cm)')
plt.ylabel('Weight (kg)')
plt.title('Height vs Weight')

plt.subplot(1, 3, 2)
plt.scatter(df['height'], df['age'])
plt.xlabel('Height (cm)')
plt.ylabel('Age (years)')
plt.title('Height vs Age')

plt.subplot(1, 3, 3)
plt.scatter(df['weight'], df['age'])
plt.xlabel('Weight (kg)')
plt.ylabel('Age (years)')
plt.title('Weight vs Age')

plt.tight_layout()
plt.savefig('correlation_scatterplots.png')



